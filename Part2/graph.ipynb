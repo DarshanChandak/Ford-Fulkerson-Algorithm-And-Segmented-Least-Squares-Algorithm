{
 "cells": [
  {
   "cell_type": "code",
   "execution_count": 2,
   "id": "c78a9cfb",
   "metadata": {},
   "outputs": [
    {
     "name": "stderr",
     "output_type": "stream",
     "text": [
      "No artists with labels found to put in legend.  Note that artists whose label start with an underscore are ignored when legend() is called with no argument.\n"
     ]
    },
    {
     "data": {
      "image/png": "[encoded data removed]",
      "text/plain": [
       "<Figure size 432x288 with 1 Axes>"
      ]
     },
     "metadata": {
      "needs_background": "light"
     },
     "output_type": "display_data"
    }
   ],
   "source": [
    "import matplotlib.pyplot as plt\n",
    "# Read and plot the new points in the same graph\n",
    "with open('input.txt', 'r') as input_f:\n",
    "    with open('output1.txt', 'r') as output_f:\n",
    "        num_testcases = int(input_f.readline())\n",
    "        num_test_cases = int(output_f.readline())\n",
    "\n",
    "        for _ in range(num_testcases):\n",
    "            min_x = float('inf')\n",
    "            max_x = float('-inf')\n",
    "            \n",
    "            num_points = int(input_f.readline())\n",
    "            partition_cost = float(input_f.readline())\n",
    "\n",
    "            points = []\n",
    "            for i in range(num_points):\n",
    "                x, y = map(float, input_f.readline().split())\n",
    "                plt.plot(x, y, 'ro')\n",
    "                points.append((x, y))\n",
    "                max_x = max(max_x, x)\n",
    "                min_x = min(min_x, x)\n",
    "\n",
    "            partition_cost = float(output_f.readline())\n",
    "            num_segments = int(output_f.readline())\n",
    "\n",
    "            segments = []\n",
    "            for i in range(num_segments):\n",
    "                slope, intercept = map(float, output_f.readline().split())\n",
    "                segments.append((slope, intercept))\n",
    "\n",
    "            segments.reverse()\n",
    "\n",
    "            for i, segment in enumerate(segments):\n",
    "                min_y = segment[0] * min_x + segment[1]\n",
    "                max_y = segment[0] * max_x + segment[1]\n",
    "\n",
    "                plt.plot([min_x, max_x], [min_y, max_y])\n",
    "\n",
    "            \n",
    "            plt.title('Segment and Point Visualization')\n",
    "            plt.xlabel('X')\n",
    "            plt.ylabel('Y')  \n",
    "            plt.legend()\n",
    "            plt.show()"
   ]
  }
 ],
 "metadata": {
  "kernelspec": {
   "display_name": "Python 3 (ipykernel)",
   "language": "python",
   "name": "python3"
  },
  "language_info": {
   "codemirror_mode": {
    "name": "ipython",
    "version": 3
   },
   "file_extension": ".py",
   "mimetype": "text/x-python",
   "name": "python",
   "nbconvert_exporter": "python",
   "pygments_lexer": "ipython3",
   "version": "3.9.6"
  }
 },
 "nbformat": 4,
 "nbformat_minor": 5
}
